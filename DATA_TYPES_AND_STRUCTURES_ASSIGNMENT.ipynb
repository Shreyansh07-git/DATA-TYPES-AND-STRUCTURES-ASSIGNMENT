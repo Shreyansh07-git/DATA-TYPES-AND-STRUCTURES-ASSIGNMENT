{
  "nbformat": 4,
  "nbformat_minor": 0,
  "metadata": {
    "colab": {
      "provenance": []
    },
    "kernelspec": {
      "name": "python3",
      "display_name": "Python 3"
    },
    "language_info": {
      "name": "python"
    }
  },
  "cells": [
    {
      "cell_type": "markdown",
      "source": [
        "#THEORITICAL QUESTIONS"
      ],
      "metadata": {
        "id": "GDaELyPJQNdJ"
      }
    },
    {
      "cell_type": "markdown",
      "source": [
        "#QUE1: What are data structures, and why are they importan?\n",
        "#ANS:\n",
        "DATA STRUCTURES: It is a way of organizing and storing data so that it can be accessed and manipulated efficiently. Or, data structures are organized ways to store, manage, data efficiently. They define the layout for how data is arranged in memory and how operations like insertion, deletion, etc are performed.\n",
        "E.g arrays, lists, hash tables etc.\n",
        "##Why they are important?\n",
        "- Organization: They help structure and organize data in a way that reflects real-world relationships or application needs.\n",
        "- Efficiency:Choosing the right data structure can drastically improve performance.\n",
        "In short, data structures are the backbone of efficient programming and algorithm design.\n",
        "\n",
        "#QUE2: Explain the difference between mutable and immutable data types with examples ?\n",
        "#ANS:\n",
        "MUTABLE DATA: Those data which can be changed or modified once created.In mutable data, the same object is modified. E.g. list, dictionaries,sets.\n",
        "\n",
        "IMMUTABLE DATA: Those data which cannot be changed or modified once created.In immutable data, a new object is created. E.g. integers, floats, strings, tuples.\n",
        "\n",
        "\n",
        "#QUE3: What are the main differences between lists and tuples in Python ?\n",
        "#ANS:\n",
        "Both lists and tuples are used to store collections of items, but they differ in several important ways:\n",
        "\n",
        "- LISTS: Lists are mutable and its syntax is square brackets[]. The performance is slower. Different methods can be used as append, pop etc. The memory usage is high.\n",
        "\n",
        "- TUPLES: Tuples are immutable and its syntax is parentheses().The performance is faster than lists.Fewer methods like count, index. The memory usage is lower.\n",
        "\n",
        "#QUE4: Describe how dictionaries store data ?\n",
        "#ANS:\n",
        "A dictionary in Python is an unordered, mutable, key-value data structure. Internally, it uses a hash table to store and access data efficiently.\n",
        "\n",
        "Python uses a method called hashing to store and find these pairs quickly. This allows Python to find a value very fast just by using the key.\n",
        "E.g.\n",
        "\n",
        "my_dict = {\"Dad\": \"12345\", \"Mom\": \"67891\"}\n",
        "\n",
        "here, Dad and Mom are keys and the numbers are values.\n",
        "\n",
        "#QUE5: Why might you use a set instead of a list in Python ?\n",
        "#ANS:\n",
        "We cannot use list instead of sets because the set automatically removes the duplicates. Also, set uses hashing(like a dictionary), so checking if an item exists is much faster than in a list.\n",
        "\n",
        "One more important reasons is: that sets supports mathematical operations like:-\n",
        "- Union (|)\n",
        "- Intersection(&)\n",
        "- Difference(-)\n",
        "\n",
        "*Use a set when -*\n",
        "\n",
        "- You want only unique items.\n",
        "- You care about performance for searching.\n",
        "- You need to do set-based logic (like checking overlaps).\n",
        "\n",
        "#QUE6: What is a string in Python, and how is it different from a list ?\n",
        "#ANS:\n",
        "A string in Python is a sequence of characters enclosed in quotes. It can contain letters, numbers, symbols, or spaces. Strings are immutable, meaning you cannot change them after they are created.\n",
        "\n",
        "- STRING: The type of data used is only text. Strings are immutable. The syntax used are \"\" and ''.\n",
        "\n",
        "- LIST: Any kind of data can be stored. Lists are mutable. The syntax used are [].\n",
        "\n",
        "#QUE7:  How do tuples ensure data integrity in Python ?\n",
        "#ANS:\n",
        "Tuples help ensure data integrity in Python by being immutable. Once created, they cannot be changed. You cannot add, remove, or modify elements in a tuple. This protects the data from being accidentally altered.\n",
        "\n",
        "*Why This Ensures Data Integrity?*\n",
        "\n",
        "- No accidental changes -\n",
        "Data stored in a tuple can't be modified by mistake in your code.\n",
        "\n",
        "- Safe to share -\n",
        "Tuples can be passed between functions or parts of a program without risk of changes.\n",
        "\n",
        "- Hashable (can be dictionary keys) -\n",
        "Since they don’t change, tuples can be used as keys in dictionaries, which require stable, unchanging keys.\n",
        "\n",
        "#QUE8: What is a hash table, and how does it relate to dictionaries in Python ?\n",
        "#ANS:\n",
        "A hash table is a data structure that stores data in key-value pairs and uses a hash function to determine where to store each key in memory.\n",
        "\n",
        "*How It Relates to Dictionaries in Python:* A dictionary in Python is built using a hash table internally.\n",
        "\n",
        "my_dict = {\"name\": \"Alice\", \"age\": 30}\n",
        "\n",
        "Here, \"name\" and \"age\" are keys.\n",
        "\n",
        "Python hashes each key to store and quickly find their values. This makes lookup, insert, and delete operations very fast.\n",
        "\n",
        "\n",
        "#QUE9: Can lists contain different data types in Python ?\n",
        "#ANS:\n",
        "Yes, Lists Can Contain Different Data Types in Python. In Python, lists are flexible and can hold items of different data types all in the same list.\n",
        "E.g.\n",
        "\n",
        "my_list = [10, \"hello\", 3.14, True, [1, 2], {\"key\": \"value\"}]\n",
        "print(my_list)\n",
        "\n",
        "\n",
        "Output will be:\n",
        "\n",
        "[10, 'hello', 3.14, True, [1, 2], {'key': 'value'}]\n",
        "\n",
        "*We can mix:*\n",
        "\n",
        "- Integers (10)\n",
        "- Strings (\"hello\")\n",
        "- Floats (3.14)\n",
        "- Booleans (True)\n",
        "- Other lists ([1, 2])\n",
        "- Dictionaries ({\"key\": \"value\"})\n",
        "- Even functions or custom objects!\n",
        "\n",
        "Python lists can contain multiple data types. This makes them powerful and flexible for many types of programming tasks.\n",
        "\n",
        "#QUE10: Explain why strings are immutable in Python ?\n",
        "#ANS:\n",
        "Strings in Python are immutable, meaning once a string is created, it cannot be changed because of the following reasons:\n",
        "\n",
        "- Performance Optimization:\n",
        "Immutable objects like strings can be stored and shared safely in memory without worrying about unexpected changes. This allows Python to optimize memory use, for example by reusing strings.\n",
        "\n",
        "- Hashing and Dictionaries:\n",
        "Since strings are immutable, they can be used as keys in dictionaries and elements in sets, which rely on objects not changing their value (hash) over time.\n",
        "\n",
        "- Thread Safety:\n",
        "Immutability makes strings safe to use across multiple threads without the risk of one thread modifying a string while another is using it.\n",
        "\n",
        "- Simplicity & Predictability:\n",
        "Immutable strings reduce bugs by making data predictable and consistent—you know a string will not change unexpectedly.\n",
        "\n",
        "#QUE11: What advantages do dictionaries offer over lists for certain tasks ?\n",
        "#ANS:\n",
        "Dictionaries offer several key advantages over lists for specific tasks, especially when working with key-value pairs or needing fast lookups. Dictionaries use a hash table, allowing for O(1) time complexity to find, insert, or delete items by key. Lists require searching through elements one by one (O(n)). Keys make the data more readable and self-explanatory. We don’t have to memorize or track positions. Just use descriptive keys.\n",
        "\n",
        "#QUE12: Describe a scenario where using a tuple would be preferable over a list ?\n",
        "#ANS:\n",
        "We can use tuple over list when we want to store data that should not change or the data has a fixed number of items.\n",
        "\n",
        "E.g.\n",
        "\n",
        "We can use a tuple to store a location (like on a map):\n",
        "\n",
        "location = (40.7128, -74.0060)  # This is a tuple\n",
        "\n",
        "*Why a tuple?*\n",
        "\n",
        "The location will always have 2 values (latitude and longitude). We don’t want the values to be changed by accident. Tuples are better when you want to keep data safe and unchanged.\n",
        "\n",
        "#QUE13: How do sets handle duplicate values in Python ?\n",
        "#ANS:\n",
        "In python, sets automatically remove duplicate values. A set is a collection of unique items. If you try to add the same value more than once, the set will keep only one copy.\n",
        "\n",
        "my_set = {1,2,3,4,2,3,1,}\n",
        "\n",
        "print(my_set)\n",
        "\n",
        "Output will be:\n",
        "\n",
        "{1,2,3}\n",
        "\n",
        "Even though 2 and 3 were repeated, the set removed duplicates and kept only the unique values.\n",
        "\n",
        "#QUE14: How does the “in” keyword work differently for lists and dictionaries ?\n",
        "#ANS:\n",
        "The 'in' keyword is used to check if something exists — but how it works depends on the different data type.\n",
        "\n",
        "Let's start with an example of list:\n",
        "\n",
        "my_list = [10, 20, 30]\n",
        "\n",
        "print(20 in my_list)   #True (20 is in the list)\n",
        "\n",
        "print(50 in my_list)   #False (50 is not in the list)\n",
        "It looks through each item in the list.\n",
        "\n",
        "Now for dictionary:\n",
        "\n",
        "my_dict = {\"name\": \"Alice\", \"age\": 25}\n",
        "\n",
        "print(\"name\" in my_dict)   #True (key exists)\n",
        "\n",
        "print(\"Alice\" in my_dict)  #False (value, not a key)\n",
        "\n",
        "It only checks the keys, not the values.\n",
        "\n",
        "#QUE15: Can you modify the elements of a tuple? Explain why or why not ?\n",
        "#ANS:\n",
        "No, we cannot modify the elements of a tuple. Because tuples are immutable, meaning once created, their values cannot be changed.\n",
        "We can’t add, remove, or change any item in a tuple.\n",
        "\n",
        "*Why tuples are immutable?*\n",
        "- Data Safety: Once created, the data stays the same—no accidental changes.\n",
        "\n",
        "- Performance: Tuples use less memory and are faster than lists in some cases.\n",
        "\n",
        "- Can be dictionary keys: Only immutable types can be used as keys in dictionaries.\n",
        "\n",
        "#QUE16: What is a nested dictionary, and give an example of its use case ?\n",
        "#ANS:\n",
        "A nested dictionary is a dictionary inside another dictionary. This allows you to store more complex, structured data—like a table or an object with details.\n",
        "\n",
        "*USE CASE:*\n",
        "\n",
        "If we want to store information about multiple students, like their name, age, and grade, instead of using separate variables, we can use a nested dictionary to organize everything neatly.\n",
        "\n",
        "print(students[\"Alice\"][\"grade\"])  # Output: A\n",
        "\n",
        "A nested dictionary helps you store related data together, like info about people, products, or settings—each with their own details.\n",
        "\n",
        "#QUE17: Describe the time complexity of accessing elements in a dictionary ?\n",
        "#ANS:\n",
        "In Python, dictionaries use a hash table internally, which makes accessing elements by key very fast.\n",
        "\n",
        "Which means:\n",
        "\n",
        "- Average case:\n",
        "Looking up a value by its key (like my_dict[\"name\"]) takes constant time — it does not depend on the size of the dictionary.\n",
        "\n",
        "- Worst case:\n",
        "If there are too many hash collisions, performance can drop to O(n), but Python handles this well internally, so it's very rare.\n",
        "\n",
        "#QUE18:  In what situations are lists preferred over dictionaries ?\n",
        "#ANS:\n",
        "Some of the situations as listed below:\n",
        "\n",
        "- Order matters:Lists keep the order of items. Use lists when the sequence or position of items is important.\n",
        "\n",
        "- If we don't need for key-value pairs: If we only need to store values, not label them, a list is simpler.\n",
        "\n",
        "- If we need to loop over items in order. Lists are perfect for loops and iterations where order matters.\n",
        "\n",
        "- If we need to store duplicates: Lists allow duplicates, but dictionaries do not (duplicate keys are not allowed).\n",
        "\n",
        "#QUE19: Why are dictionaries considered unordered, and how does that affect data retrieval ?\n",
        "#ANS:\n",
        "Dictionaries are considered unordered because they are meant for fast key-based access, not for working with positions (like lists) and we can't access items by index.\n",
        "E.g. dict[0] doesn’t work.\n",
        " It will affect data retrieval by following means:\n",
        "\n",
        " - Access by key is fast but access by position/index is not supported.\n",
        "\n",
        " - It is designed for fast lookup by key, not order.\n",
        "\n",
        "#QUE20: Explain the difference between a list and a dictionary in terms of data retrieval ?\n",
        "\n",
        "#ANS:\n",
        "List: A list retrieves data by using an index, which means you access items based on their position in the list. For example, my_list[0] gives you the first item. Lists keep the order of items, so you can easily get things like the “third element” or “last element.\n",
        "\n",
        " Dictionary: On the other hand, retrieves data by using a key. Each value in a dictionary is stored with a unique key, and you access the value by providing that key, like my_dict[\"name\"]. This makes looking up data very fast, because Python uses a hash function to find the value directly without searching through everything.\n",
        "\n",
        "\n"
      ],
      "metadata": {
        "id": "IRDZNkpRQxDR"
      }
    },
    {
      "cell_type": "markdown",
      "source": [
        "#PRACTICAL QUESTIONS"
      ],
      "metadata": {
        "id": "4e5UTw0X6jH3"
      }
    },
    {
      "cell_type": "code",
      "source": [
        "#QUE1: Write a code to create a string with your name and print it ?\n",
        "#ANS:\n",
        "my_name = \"shreyansh\"\n",
        "print(my_name)"
      ],
      "metadata": {
        "colab": {
          "base_uri": "https://localhost:8080/"
        },
        "id": "SWKvQUUg6n3L",
        "outputId": "da901020-ebf7-4871-8b17-5a8bc5312434"
      },
      "execution_count": null,
      "outputs": [
        {
          "output_type": "stream",
          "name": "stdout",
          "text": [
            "shreyansh\n"
          ]
        }
      ]
    },
    {
      "cell_type": "code",
      "source": [
        "#QUE2: Write a code to find the length of the string \"Hello World\" ?\n",
        "#ANS:\n",
        "word = \"Hello World\"\n",
        "len(word)"
      ],
      "metadata": {
        "colab": {
          "base_uri": "https://localhost:8080/"
        },
        "id": "bo5-roiN7wzV",
        "outputId": "1de28a92-e624-4ba4-a20b-a1bdafff9a16"
      },
      "execution_count": null,
      "outputs": [
        {
          "output_type": "execute_result",
          "data": {
            "text/plain": [
              "11"
            ]
          },
          "metadata": {},
          "execution_count": 4
        }
      ]
    },
    {
      "cell_type": "code",
      "source": [
        "#QUE3: Write a code to slice the first 3 characters from the string \"Python Programming\" ?\n",
        "#ANS:\n",
        "word = \"python Programming\"\n",
        "print(word[0:3])"
      ],
      "metadata": {
        "colab": {
          "base_uri": "https://localhost:8080/"
        },
        "id": "9fZdmo2M7_x8",
        "outputId": "95701372-a0d7-4155-82f8-bf60906748e0"
      },
      "execution_count": null,
      "outputs": [
        {
          "output_type": "stream",
          "name": "stdout",
          "text": [
            "pyt\n"
          ]
        }
      ]
    },
    {
      "cell_type": "code",
      "source": [
        "#QUE4: Write a code to convert the string \"hello\" to uppercase ?\n",
        "#ANS:\n",
        "string = \"hello\"\n",
        "print(string.upper())"
      ],
      "metadata": {
        "colab": {
          "base_uri": "https://localhost:8080/"
        },
        "id": "sQ_3-A-d8pee",
        "outputId": "bbe9eb8b-b58f-4492-cc2d-1aa6a2a5d178"
      },
      "execution_count": null,
      "outputs": [
        {
          "output_type": "stream",
          "name": "stdout",
          "text": [
            "HELLO\n"
          ]
        }
      ]
    },
    {
      "cell_type": "code",
      "source": [
        "#QUE5: Write a code to replace the word \"apple\" with \"orange\" in the string \"I like apple\" ?\n",
        "#ANS:\n",
        "string = \"I like apple\"\n",
        "print(string.replace(\"apple\", \"orange\"))"
      ],
      "metadata": {
        "colab": {
          "base_uri": "https://localhost:8080/"
        },
        "id": "YXXNV9ft9I42",
        "outputId": "83cfacff-014c-490a-9136-f57f5f7e32da"
      },
      "execution_count": null,
      "outputs": [
        {
          "output_type": "stream",
          "name": "stdout",
          "text": [
            "I like orange\n"
          ]
        }
      ]
    },
    {
      "cell_type": "code",
      "source": [
        "#QUE6: Write a code to create a list with numbers 1 to 5 and print it ?\n",
        "#ANS:\n",
        "list = [1,2,3,4,5]\n",
        "print(list)"
      ],
      "metadata": {
        "colab": {
          "base_uri": "https://localhost:8080/"
        },
        "id": "EuFm2IPJ9gmT",
        "outputId": "f1d6ca9b-de12-425d-d02e-5dc5388aa6cf"
      },
      "execution_count": null,
      "outputs": [
        {
          "output_type": "stream",
          "name": "stdout",
          "text": [
            "[1, 2, 3, 4, 5]\n"
          ]
        }
      ]
    },
    {
      "cell_type": "code",
      "source": [
        "#QUE7: Write a code to append the number 10 to the list [1, 2, 3, 4] ?\n",
        "#ANS:\n",
        "list = [1,2,3,4]\n",
        "print(\"Original list: \", list)\n",
        "list.append(10)\n",
        "print(\"Updated list: \", list)"
      ],
      "metadata": {
        "colab": {
          "base_uri": "https://localhost:8080/"
        },
        "id": "C7QnEi1V9tDn",
        "outputId": "539e07c9-0172-4a49-bf07-e9da8c85dfaa"
      },
      "execution_count": null,
      "outputs": [
        {
          "output_type": "stream",
          "name": "stdout",
          "text": [
            "Original list:  [1, 2, 3, 4]\n",
            "Updated list:  [1, 2, 3, 4, 10]\n"
          ]
        }
      ]
    },
    {
      "cell_type": "code",
      "source": [
        "#QUE8: Write a code to remove the number 3 from the list [1, 2, 3, 4, 5] ?\n",
        "#ANS:\n",
        "list = [1,2,3,4,5]\n",
        "print(\"Original list: \", list)\n",
        "list.remove(3)\n",
        "print(\"Updated list: \", list)"
      ],
      "metadata": {
        "colab": {
          "base_uri": "https://localhost:8080/"
        },
        "id": "2vsaCrzo-MZS",
        "outputId": "f77f3c30-deda-4afd-f873-5a3a6defed29"
      },
      "execution_count": null,
      "outputs": [
        {
          "output_type": "stream",
          "name": "stdout",
          "text": [
            "Original list:  [1, 2, 3, 4, 5]\n",
            "Updated list:  [1, 2, 4, 5]\n"
          ]
        }
      ]
    },
    {
      "cell_type": "code",
      "source": [
        "#QUE9: Write a code to access the second element in the list ['a', 'b', 'c', 'd'] ?\n",
        "#ANS:\n",
        "list = ['a', 'b', 'c', 'd']\n",
        "print(list[1])"
      ],
      "metadata": {
        "colab": {
          "base_uri": "https://localhost:8080/"
        },
        "id": "KScegZY7-UjU",
        "outputId": "a07adc01-8b99-4e4d-e1b5-26533361dd02"
      },
      "execution_count": null,
      "outputs": [
        {
          "output_type": "stream",
          "name": "stdout",
          "text": [
            "b\n"
          ]
        }
      ]
    },
    {
      "cell_type": "code",
      "source": [
        "#QUE10: Write a code to reverse the list [10, 20, 30, 40, 50] ?\n",
        "#ANS:\n",
        "list = [10, 20, 30, 40, 50]\n",
        "print(list[::-1])"
      ],
      "metadata": {
        "colab": {
          "base_uri": "https://localhost:8080/"
        },
        "id": "gW67btql-hjD",
        "outputId": "0fa0949c-777b-4a36-c818-4272e0816f1d"
      },
      "execution_count": null,
      "outputs": [
        {
          "output_type": "stream",
          "name": "stdout",
          "text": [
            "[50, 40, 30, 20, 10]\n"
          ]
        }
      ]
    },
    {
      "cell_type": "code",
      "source": [
        "#QUE11: Write a code to create a tuple with the elements 100, 200, 300 and print it ?\n",
        "#ANS:\n",
        "tuple = (100, 200, 300)\n",
        "print(tuple)"
      ],
      "metadata": {
        "colab": {
          "base_uri": "https://localhost:8080/"
        },
        "id": "JEDH8okl_AbS",
        "outputId": "cdd59607-6a76-4ef8-8f2a-3322bbff0c83"
      },
      "execution_count": null,
      "outputs": [
        {
          "output_type": "stream",
          "name": "stdout",
          "text": [
            "(100, 200, 300)\n"
          ]
        }
      ]
    },
    {
      "cell_type": "code",
      "source": [
        "#QUE12: Write a code to access the second-to-last element of the tuple ('red', 'green', 'blue', 'yellow') ?\n",
        "#ANS:\n",
        "tuple = ('red', 'green', 'blue', 'yellow')\n",
        "print(tuple[-2])"
      ],
      "metadata": {
        "colab": {
          "base_uri": "https://localhost:8080/"
        },
        "id": "U0NmmGPI_Igj",
        "outputId": "ab4c67f5-a392-40b4-f0d3-2a6b05346b4f"
      },
      "execution_count": null,
      "outputs": [
        {
          "output_type": "stream",
          "name": "stdout",
          "text": [
            "blue\n"
          ]
        }
      ]
    },
    {
      "cell_type": "code",
      "source": [
        "#QUE13: Write a code to find the minimum number in the tuple (10, 20, 5, 15) ?\n",
        "#ANS:\n",
        "tuple = (10,20,5,15)\n",
        "print(min(tuple))"
      ],
      "metadata": {
        "colab": {
          "base_uri": "https://localhost:8080/"
        },
        "id": "CV74t07pAqb4",
        "outputId": "a0c9e221-74a6-41ae-d01e-871a19fe60a8"
      },
      "execution_count": null,
      "outputs": [
        {
          "output_type": "stream",
          "name": "stdout",
          "text": [
            "5\n"
          ]
        }
      ]
    },
    {
      "cell_type": "code",
      "source": [
        "#QUE14: Write a code to find the index of the element \"cat\" in the tuple ('dog', 'cat', 'rabbit') ?\n",
        "#ANS:\n",
        "tuple = ('dog', 'cat', 'rabbit')\n",
        "print(tuple.index(\"cat\"))"
      ],
      "metadata": {
        "colab": {
          "base_uri": "https://localhost:8080/"
        },
        "id": "X1s4NFQOBbYI",
        "outputId": "690c1fad-9afb-4b1e-a3e1-455a04f4c421"
      },
      "execution_count": null,
      "outputs": [
        {
          "output_type": "stream",
          "name": "stdout",
          "text": [
            "1\n"
          ]
        }
      ]
    },
    {
      "cell_type": "code",
      "source": [
        "#QUE15: Write a code to create a tuple containing three different fruits and check if \"kiwi\" is in it ?\n",
        "#ANS:\n",
        "fruits = (\"apple\", \"banana\", \"watermelon\")\n",
        "print(\"kiwi\" in fruits)"
      ],
      "metadata": {
        "colab": {
          "base_uri": "https://localhost:8080/"
        },
        "id": "R25_HqDGCGrz",
        "outputId": "bcbfd150-e476-4c5b-c29b-3da887be97ce"
      },
      "execution_count": null,
      "outputs": [
        {
          "output_type": "stream",
          "name": "stdout",
          "text": [
            "False\n"
          ]
        }
      ]
    },
    {
      "cell_type": "code",
      "source": [
        "#QUE16: Write a code to create a set with the elements 'a', 'b', 'c' and print it ?\n",
        "#ANS:\n",
        "set = {'a','b','c'}\n",
        "print(set)"
      ],
      "metadata": {
        "colab": {
          "base_uri": "https://localhost:8080/"
        },
        "id": "cIjheDR2Ci3e",
        "outputId": "16043324-ab50-4eab-fd53-993b1ad7aa41"
      },
      "execution_count": null,
      "outputs": [
        {
          "output_type": "stream",
          "name": "stdout",
          "text": [
            "{'a', 'c', 'b'}\n"
          ]
        }
      ]
    },
    {
      "cell_type": "code",
      "source": [
        "#QUE17: Write a code to clear all elements from the set {1, 2, 3, 4, 5} ?\n",
        "#ANS:\n",
        "set = {1,2,3,4,5}\n",
        "set.clear()\n",
        "print(set)"
      ],
      "metadata": {
        "colab": {
          "base_uri": "https://localhost:8080/"
        },
        "id": "N0Jlmh6tC0oo",
        "outputId": "005aa549-cdf6-41bf-db24-2b9f4c95b751"
      },
      "execution_count": null,
      "outputs": [
        {
          "output_type": "stream",
          "name": "stdout",
          "text": [
            "set()\n"
          ]
        }
      ]
    },
    {
      "cell_type": "code",
      "source": [
        "#QUE18: Write a code to remove the element 4 from the set {1, 2, 3, 4} ?\n",
        "#ANS:\n",
        "set = {'1','2','3','4'}\n",
        "print(\"Original set: \",set)\n",
        "set.remove('4')\n",
        "print(\"Updated set: \",set)\n"
      ],
      "metadata": {
        "colab": {
          "base_uri": "https://localhost:8080/"
        },
        "id": "7tHwrHR3C8N7",
        "outputId": "766eb323-54c3-4f1e-89df-299a1856b8af"
      },
      "execution_count": null,
      "outputs": [
        {
          "output_type": "stream",
          "name": "stdout",
          "text": [
            "Original set:  {'3', '2', '4', '1'}\n",
            "Updated set:  {'3', '2', '1'}\n"
          ]
        }
      ]
    },
    {
      "cell_type": "code",
      "source": [
        "#QUE19: Write a code to find the union of two sets {1, 2, 3} and {3, 4, 5} ?\n",
        "#ANS:\n",
        "set1 = {1,2,3}\n",
        "set2 = {3,4,5}\n",
        "print(set1|set2)"
      ],
      "metadata": {
        "colab": {
          "base_uri": "https://localhost:8080/"
        },
        "id": "CUzsCeXSD8lv",
        "outputId": "4058f164-abc2-4f78-d986-8da2106cf88c"
      },
      "execution_count": null,
      "outputs": [
        {
          "output_type": "stream",
          "name": "stdout",
          "text": [
            "{1, 2, 3, 4, 5}\n"
          ]
        }
      ]
    },
    {
      "cell_type": "code",
      "source": [
        "#QUE20: Write a code to find the intersection of two sets {1, 2, 3} and {2, 3, 4} ?\n",
        "#ANS:\n",
        "set1 = {1,2,3}\n",
        "set2 = {2,3,4}\n",
        "print(set1&set2)"
      ],
      "metadata": {
        "colab": {
          "base_uri": "https://localhost:8080/"
        },
        "id": "-cWVO779EMmc",
        "outputId": "370387a7-8969-4e28-918e-68e4d08662d6"
      },
      "execution_count": null,
      "outputs": [
        {
          "output_type": "stream",
          "name": "stdout",
          "text": [
            "{2, 3}\n"
          ]
        }
      ]
    },
    {
      "cell_type": "code",
      "source": [
        "#QUE21: Write a code to create a dictionary with the keys \"name\", \"age\", and \"city\", and print it ?\n",
        "#ANS:\n",
        "dict = {\"name\": \"shreyansh\", \"age\": 24, \"city\": \"bilaspur\"}\n",
        "print(dict)"
      ],
      "metadata": {
        "colab": {
          "base_uri": "https://localhost:8080/"
        },
        "id": "4UTGLS8HEYxQ",
        "outputId": "7f271d84-0ac0-4263-944c-057b003756f0"
      },
      "execution_count": null,
      "outputs": [
        {
          "output_type": "stream",
          "name": "stdout",
          "text": [
            "{'name': 'shreyansh', 'age': 24, 'city': 'bilaspur'}\n"
          ]
        }
      ]
    },
    {
      "cell_type": "code",
      "source": [
        "#QUE22: Write a code to add a new key-value pair \"country\": \"USA\" to the dictionary {'name': 'John', 'age': 25} ?\n",
        "#ANS:\n",
        "dict = {'name': 'John', 'age': 25}\n",
        "print(\"Original dictionary: \", dict)\n",
        "dict[\"country\"] = \"USA\"\n",
        "print(\"Updated dictionary: \", dict)"
      ],
      "metadata": {
        "colab": {
          "base_uri": "https://localhost:8080/"
        },
        "id": "IXPH8I72Eo3o",
        "outputId": "ad4379c4-3013-4ba2-9ab5-82f68c2ab348"
      },
      "execution_count": null,
      "outputs": [
        {
          "output_type": "stream",
          "name": "stdout",
          "text": [
            "Original dictionary:  {'name': 'John', 'age': 25}\n",
            "Updated dictionary:  {'name': 'John', 'age': 25, 'country': 'USA'}\n"
          ]
        }
      ]
    },
    {
      "cell_type": "code",
      "source": [
        "#QUE23: Write a code to access the value associated with the key \"name\" in the dictionary {'name': 'Alice', 'age': 30} ?\n",
        "#ANS:\n",
        "dict = {'name': 'Alice', 'age': 30}\n",
        "print(dict[\"name\"])"
      ],
      "metadata": {
        "colab": {
          "base_uri": "https://localhost:8080/"
        },
        "id": "pieWkDeDE8R7",
        "outputId": "ee3b7d15-d29e-4c61-a160-aec91b3bfa20"
      },
      "execution_count": null,
      "outputs": [
        {
          "output_type": "stream",
          "name": "stdout",
          "text": [
            "Alice\n"
          ]
        }
      ]
    },
    {
      "cell_type": "code",
      "source": [
        "#QUE24: Write a code to remove the key \"age\" from the dictionary {'name': 'Bob', 'age': 22, 'city': 'New York'} ?\n",
        "#ANS:\n",
        "dict = {'name': 'Bob', 'age': 22, 'city': 'New York'}\n",
        "print(\"Original dictionary: \", dict)\n",
        "del dict[\"age\"]\n",
        "print(\"Updated dictionary: \", dict)"
      ],
      "metadata": {
        "colab": {
          "base_uri": "https://localhost:8080/"
        },
        "id": "J2AeszDSFL80",
        "outputId": "5c9d77ad-fa52-4f13-fc83-05886dcd992a"
      },
      "execution_count": null,
      "outputs": [
        {
          "output_type": "stream",
          "name": "stdout",
          "text": [
            "Original dictionary:  {'name': 'Bob', 'age': 22, 'city': 'New York'}\n",
            "Updated dictionary:  {'name': 'Bob', 'city': 'New York'}\n"
          ]
        }
      ]
    },
    {
      "cell_type": "code",
      "source": [
        "#QUE25: Write a code to check if the key \"city\" exists in the dictionary {'name': 'Alice', 'city': 'Paris'} ?\n",
        "#ANS:\n",
        "dict = {'name': 'Alice', 'city': 'Paris'}\n",
        "print(\"city\" in dict)"
      ],
      "metadata": {
        "colab": {
          "base_uri": "https://localhost:8080/"
        },
        "id": "HDl8FekjFV8f",
        "outputId": "080b5e20-840c-4784-a748-4b4ce0df5d27"
      },
      "execution_count": null,
      "outputs": [
        {
          "output_type": "stream",
          "name": "stdout",
          "text": [
            "True\n"
          ]
        }
      ]
    },
    {
      "cell_type": "code",
      "source": [
        "#QUE26: Write a code to create a list, a tuple, and a dictionary, and print them all ?\n",
        "#ANS:\n",
        "list = [1,2,3,4,5]\n",
        "print(\"The list: \",list)\n",
        "tuple = (1,2,3,4,5)\n",
        "print(\"The tuple: \",tuple)\n",
        "dict = {\"name\": \"shreyansh\", \"age\": 24, \"city\": \"bilaspur\"}\n",
        "print(\"The dictionary: \",dict)"
      ],
      "metadata": {
        "colab": {
          "base_uri": "https://localhost:8080/"
        },
        "id": "-wlq9jHAFknE",
        "outputId": "7e377c5a-5169-4a4d-e52b-d39620d04052"
      },
      "execution_count": null,
      "outputs": [
        {
          "output_type": "stream",
          "name": "stdout",
          "text": [
            "The list:  [1, 2, 3, 4, 5]\n",
            "The tuple:  (1, 2, 3, 4, 5)\n",
            "The dictionary:  {'name': 'shreyansh', 'age': 24, 'city': 'bilaspur'}\n"
          ]
        }
      ]
    },
    {
      "cell_type": "code",
      "source": [
        "#QUE27: Write a code to create a list of 5 random numbers between 1 and 100, sort it in ascending order, and print the result.(replaced) ?\n",
        "#ANS:\n",
        "import random\n",
        "list = [random.randint(1,100)\n",
        "for i in range(5)]\n",
        "print(\"Original list: \", list)\n",
        "list.sort()\n",
        "print(\"Sorted list: \", list)"
      ],
      "metadata": {
        "colab": {
          "base_uri": "https://localhost:8080/"
        },
        "id": "iHZwoAdsF-KI",
        "outputId": "71ed7c2d-4871-46c7-dbe9-269984674790"
      },
      "execution_count": null,
      "outputs": [
        {
          "output_type": "stream",
          "name": "stdout",
          "text": [
            "Original list:  [95, 54, 45, 23, 52]\n",
            "Sorted list:  [23, 45, 52, 54, 95]\n"
          ]
        }
      ]
    },
    {
      "cell_type": "code",
      "source": [
        "#QUE28:  Write a code to create a list with strings and print the element at the third index ?\n",
        "#ANS:\n",
        "list = [\"guava\",\"grapes\", \"cherry\", \"watermelon\" ,\"apple\" ]\n",
        "print(list[3])"
      ],
      "metadata": {
        "colab": {
          "base_uri": "https://localhost:8080/"
        },
        "id": "4T7xL1n_GZzB",
        "outputId": "0068f7e2-fc78-4f7e-ae56-505c5095967a"
      },
      "execution_count": null,
      "outputs": [
        {
          "output_type": "stream",
          "name": "stdout",
          "text": [
            "watermelon\n"
          ]
        }
      ]
    },
    {
      "cell_type": "code",
      "source": [
        "#QUE29:  Write a code to combine two dictionaries into one and print the result ?\n",
        "#ANS:\n",
        "dict1 = {\"name\": \"shreyansh\", \"age\": 24}\n",
        "dict2 = {\"city\": \"bilaspur\" , \"state\": \"chhattisgarh\"}\n",
        "dict.update(dict2)\n",
        "print(dict)"
      ],
      "metadata": {
        "colab": {
          "base_uri": "https://localhost:8080/"
        },
        "id": "oCMfJptUHRNb",
        "outputId": "ec31fe7c-571b-4371-ebaf-a837bb035b3f"
      },
      "execution_count": null,
      "outputs": [
        {
          "output_type": "stream",
          "name": "stdout",
          "text": [
            "{'name': 'shreyansh', 'age': 24, 'city': 'bilaspur', 'state': 'chhattisgarh'}\n"
          ]
        }
      ]
    },
    {
      "cell_type": "code",
      "source": [
        "#QUE30: Write a code to convert a list of strings into a set ?\n",
        "#ANS:\n",
        "colors = [\"red\", \"blue\", \"red\", \"green\"]\n",
        "unique_colors = set(colors)\n",
        "print(unique_colors)\n",
        "\n",
        "\n",
        "# I DON'T KNOW WHY THESE CODES THROWS AN ERROR IN GOOGLE COLLAB BUT WHENEVER I RUN THESE CODES IN VSCODE THEY WORK PROPERLY.\n",
        "#KINDLY HELP ME WITH THIS QUESTION.\n",
        "#THANK YOU!!"
      ],
      "metadata": {
        "colab": {
          "base_uri": "https://localhost:8080/",
          "height": 193
        },
        "id": "C_7XM9idIJIm",
        "outputId": "e6de8231-ea11-410b-96f5-024926e83a44"
      },
      "execution_count": null,
      "outputs": [
        {
          "output_type": "error",
          "ename": "TypeError",
          "evalue": "'set' object is not callable",
          "traceback": [
            "\u001b[0;31m---------------------------------------------------------------------------\u001b[0m",
            "\u001b[0;31mTypeError\u001b[0m                                 Traceback (most recent call last)",
            "\u001b[0;32m/tmp/ipython-input-3753313031.py\u001b[0m in \u001b[0;36m<cell line: 0>\u001b[0;34m()\u001b[0m\n\u001b[1;32m      2\u001b[0m \u001b[0;31m#ANS:\u001b[0m\u001b[0;34m\u001b[0m\u001b[0;34m\u001b[0m\u001b[0m\n\u001b[1;32m      3\u001b[0m \u001b[0mcolors\u001b[0m \u001b[0;34m=\u001b[0m \u001b[0;34m[\u001b[0m\u001b[0;34m\"red\"\u001b[0m\u001b[0;34m,\u001b[0m \u001b[0;34m\"blue\"\u001b[0m\u001b[0;34m,\u001b[0m \u001b[0;34m\"red\"\u001b[0m\u001b[0;34m,\u001b[0m \u001b[0;34m\"green\"\u001b[0m\u001b[0;34m]\u001b[0m\u001b[0;34m\u001b[0m\u001b[0;34m\u001b[0m\u001b[0m\n\u001b[0;32m----> 4\u001b[0;31m \u001b[0munique_colors\u001b[0m \u001b[0;34m=\u001b[0m \u001b[0mset\u001b[0m\u001b[0;34m(\u001b[0m\u001b[0mcolors\u001b[0m\u001b[0;34m)\u001b[0m\u001b[0;34m\u001b[0m\u001b[0;34m\u001b[0m\u001b[0m\n\u001b[0m\u001b[1;32m      5\u001b[0m \u001b[0mprint\u001b[0m\u001b[0;34m(\u001b[0m\u001b[0munique_colors\u001b[0m\u001b[0;34m)\u001b[0m\u001b[0;34m\u001b[0m\u001b[0;34m\u001b[0m\u001b[0m\n",
            "\u001b[0;31mTypeError\u001b[0m: 'set' object is not callable"
          ]
        }
      ]
    },
    {
      "cell_type": "markdown",
      "source": [],
      "metadata": {
        "id": "3j9GW55yLC0L"
      }
    }
  ]
}